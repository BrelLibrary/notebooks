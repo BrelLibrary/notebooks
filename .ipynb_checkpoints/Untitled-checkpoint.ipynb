{
 "cells": [
  {
   "cell_type": "code",
   "execution_count": null,
   "id": "5667d9cc",
   "metadata": {},
   "outputs": [],
   "source": [
    "!pip install brel-xbrl"
   ]
  },
  {
   "cell_type": "code",
   "execution_count": null,
   "id": "356e1e06",
   "metadata": {},
   "outputs": [],
   "source": [
    "import brel"
   ]
  },
  {
   "cell_type": "code",
   "execution_count": null,
   "id": "3cd3f641",
   "metadata": {},
   "outputs": [],
   "source": [
    "from brel.brel_filing import Filing\n",
    "from brel.utils import open_edgar, pprint\n",
    "from brel.parsers.XHMTL import xhtml_parse_facts"
   ]
  },
  {
   "cell_type": "code",
   "execution_count": null,
   "id": "d31c8cfd",
   "metadata": {},
   "outputs": [],
   "source": [
    "filing = open_edgar(cik=\"857949\", filing_type=\"10-K\", date=\"2023-06-30\")\n",
    "all_concepts = filing.get_all_concepts()\n",
    "all_facts = filing.get_all_facts()\n",
    "pprint(all_facts[:10])"
   ]
  }
 ],
 "metadata": {
  "kernelspec": {
   "display_name": "Python 3 (ipykernel)",
   "language": "python",
   "name": "python3"
  },
  "language_info": {
   "codemirror_mode": {
    "name": "ipython",
    "version": 3
   },
   "file_extension": ".py",
   "mimetype": "text/x-python",
   "name": "python",
   "nbconvert_exporter": "python",
   "pygments_lexer": "ipython3",
   "version": "3.11.4"
  }
 },
 "nbformat": 4,
 "nbformat_minor": 5
}
